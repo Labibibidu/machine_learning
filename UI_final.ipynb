{
 "cells": [
  {
   "cell_type": "code",
   "execution_count": 1,
   "id": "04c27105",
   "metadata": {},
   "outputs": [],
   "source": [
    "import matplotlib.pyplot as plt\n",
    "import cv2\n",
    "import numpy as np\n",
    "from keras.models import Sequential\n",
    "from keras.layers import Dense, Flatten, Conv2D, MaxPool2D, Dropout\n",
    "from keras.optimizers import SGD, Adam\n",
    "from keras.callbacks import ReduceLROnPlateau, EarlyStopping\n",
    "from keras.utils import to_categorical\n",
    "import pandas as pd\n",
    "import numpy as np\n",
    "from sklearn.model_selection import train_test_split\n",
    "from sklearn.utils import shuffle\n",
    "import tensorflow as tf\n",
    "model = tf.keras.models.load_model('model_hand.h5')\n",
    "word_dict = {0:'A',1:'B',2:'C',3:'D',4:'E',5:'F',6:'G',7:'H',8:'I',9:'J',10:'K',11:'L',12:'M',13:'N',14:'O',15:'P'\n",
    "             ,16:'Q',17:'R',18:'S',19:'T',20:'U',21:'V',22:'W',23:'X', 24:'Y',25:'Z'}"
   ]
  },
  {
   "cell_type": "code",
   "execution_count": 2,
   "id": "ca50bcb3",
   "metadata": {},
   "outputs": [
    {
     "name": "stdout",
     "output_type": "stream",
     "text": [
      "1/1 [==============================] - 0s 225ms/step\n"
     ]
    }
   ],
   "source": [
    "import tkinter as tk\n",
    "import tkinter as tk\n",
    "from PIL import ImageTk, Image\n",
    "from tkinter import messagebox\n",
    "from tkinter import filedialog\n",
    "from PIL import Image,ImageTk\n",
    "import copy\n",
    "\n",
    "\n",
    "def show_import_img():\n",
    "    global path\n",
    "    path= filedialog.askopenfilename()\n",
    "    if not path:\n",
    "        messagebox.showinfo(\"Info\", \"Import failed\")\n",
    "    else:\n",
    "        lb_results.configure(text ='Recognition results :  ',fg='white')\n",
    "        import_img(path)\n",
    "    \n",
    "\n",
    "def import_img(path):\n",
    "        img = Image.open(path)\n",
    "        tk_img = ImageTk.PhotoImage(img)\n",
    "        img = Image.open(path)\n",
    "        w, h = img.size\n",
    "        image_resized=img.resize((500,500))\n",
    "        tk_img = ImageTk.PhotoImage(image_resized)\n",
    "        canvas.delete('all') #\n",
    "        canvas.config(scrollregion=(0,0,w,h))\n",
    "        canvas.create_image(0, 0, anchor='nw', image=tk_img)\n",
    "        canvas.tk_img = tk_img\n",
    "        \n",
    "def prediction():\n",
    "    img = cv2.imread(path)\n",
    "    img_copy = img.copy()\n",
    "    img = cv2.cvtColor(img, cv2.COLOR_BGR2RGB)\n",
    "    img = cv2.resize(img, (400,440))\n",
    "\n",
    "    img_copy = cv2.GaussianBlur(img_copy, (7,7), 0)\n",
    "    img_gray = cv2.cvtColor(img_copy, cv2.COLOR_BGR2GRAY)\n",
    "    _, img_thresh = cv2.threshold(img_gray, 100, 255, cv2.THRESH_BINARY_INV)\n",
    "    img_final = cv2.resize(img_thresh, (28,28))\n",
    "    img_final =np.reshape(img_final, (1,28,28,1))\n",
    "    img_pred = word_dict[np.argmax(model.predict(img_final))]\n",
    "    lb_results.configure(text ='Recognition results :  '+img_pred,fg='white')        \n",
    "    \n",
    "\n",
    "#window\n",
    "window = tk.Tk()\n",
    "window.title('Handwritten Character Recognition')\n",
    "window.geometry('1000x1000')\n",
    "window.resizable(False,False)\n",
    "window.configure(background='aqua')\n",
    "\n",
    "#canvas\n",
    "canvas = tk.Canvas(window, width=500, height=500, bg='gray')\n",
    "canvas.create_text(250, 250, text='請匯入圖片',fill='black')\n",
    "canvas.pack(padx='250')\n",
    "canvas.pack(side='left')\n",
    "\n",
    "#button\n",
    "bt_import_image=tk.Button(text='Load picture',width=11,command=show_import_img,activebackground='blue'\n",
    "                          ,activeforeground='green',bg='yellow')\n",
    "bt_recognition=tk.Button(text='Recognition', width=11,command=prediction,activebackground='blue'\n",
    "                         ,activeforeground='green',bg='yellow')\n",
    "#label\n",
    "lb_results=tk.Label(anchor='nw',text='Recognition results :  ',width=55,bg='gray',fg='white',height=5)\n",
    "#layout\n",
    "bt_import_image.place(x=250, y=80)\n",
    "bt_recognition.place(x=650, y=80)\n",
    "lb_results.place(anchor='nw',x=250,y=800)\n",
    "\n",
    "#mainloop\n",
    "window.mainloop()"
   ]
  },
  {
   "cell_type": "code",
   "execution_count": null,
   "id": "18f58286",
   "metadata": {},
   "outputs": [],
   "source": []
  },
  {
   "cell_type": "code",
   "execution_count": null,
   "id": "41048b61",
   "metadata": {},
   "outputs": [],
   "source": []
  },
  {
   "cell_type": "code",
   "execution_count": null,
   "id": "4d02d40c",
   "metadata": {},
   "outputs": [],
   "source": []
  }
 ],
 "metadata": {
  "kernelspec": {
   "display_name": "Python 3 (ipykernel)",
   "language": "python",
   "name": "python3"
  },
  "language_info": {
   "codemirror_mode": {
    "name": "ipython",
    "version": 3
   },
   "file_extension": ".py",
   "mimetype": "text/x-python",
   "name": "python",
   "nbconvert_exporter": "python",
   "pygments_lexer": "ipython3",
   "version": "3.9.13"
  }
 },
 "nbformat": 4,
 "nbformat_minor": 5
}
